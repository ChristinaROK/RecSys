{
 "cells": [
  {
   "cell_type": "code",
   "execution_count": 1,
   "metadata": {},
   "outputs": [],
   "source": [
    "def computeGenreSimilarity(movie1, movie2, genres): \n",
    "    genres1 = genres[movie1] \n",
    "    genres2 = genres[movie2]\n",
    "    sumxx, sumxy, sumyy = 0, 0, 0\n",
    "    for i in range(len(genres1)):\n",
    "        x = genres1[i]\n",
    "        y = genres2[i]\n",
    "        sumxx += x*x\n",
    "        sumyy += y*y\n",
    "        sumxy += x*y\n",
    "        \n",
    "    return sumxy / math.sqrt(sumxx * sumyy)"
   ]
  },
  {
   "cell_type": "code",
   "execution_count": 2,
   "metadata": {},
   "outputs": [],
   "source": [
    "import math "
   ]
  },
  {
   "cell_type": "code",
   "execution_count": 3,
   "metadata": {},
   "outputs": [],
   "source": [
    "def computeYearSimilarity(movie1, movie2, years):\n",
    "    diff = abs(years[movie1] - years[movie2])\n",
    "    sim = math.exp(-diff / 10.0)\n",
    "    return sim"
   ]
  },
  {
   "cell_type": "code",
   "execution_count": null,
   "metadata": {},
   "outputs": [],
   "source": [
    "# Knn - item similiarity\n",
    "neighbors = [] # list of neighbors\n",
    "for rating in trainset.ur[u]: # rating = list of items ur rated\n",
    "    genreSimilarity = similarities[i, rating[0]]\n",
    "    neighbors.append((gnereSimilarity, rating[1]))\n"
   ]
  }
 ],
 "metadata": {
  "kernelspec": {
   "display_name": "Python 3",
   "language": "python",
   "name": "python3"
  },
  "language_info": {
   "codemirror_mode": {
    "name": "ipython",
    "version": 3
   },
   "file_extension": ".py",
   "mimetype": "text/x-python",
   "name": "python",
   "nbconvert_exporter": "python",
   "pygments_lexer": "ipython3",
   "version": "3.5.6"
  }
 },
 "nbformat": 4,
 "nbformat_minor": 2
}
