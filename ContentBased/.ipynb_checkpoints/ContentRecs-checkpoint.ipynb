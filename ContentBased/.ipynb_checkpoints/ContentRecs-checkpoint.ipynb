{
 "cells": [
  {
   "cell_type": "code",
   "execution_count": null,
   "metadata": {},
   "outputs": [],
   "source": [
    "# -*- coding: utf-8 -*-\n",
    "\"\"\"\n",
    "Created on Fri May  4 16:25:39 2018\n",
    "\n",
    "@author: Frank\n",
    "\"\"\"\n",
    "\n",
    "\n",
    "from MovieLens import MovieLens\n",
    "from ContentKNNAlgorithm import ContentKNNAlgorithm\n",
    "from Evaluator import Evaluator\n",
    "from surprise import NormalPredictor\n",
    "\n",
    "import random\n",
    "import numpy as np\n",
    "\n",
    "def LoadMovieLensData():\n",
    "    ml = MovieLens()\n",
    "    print(\"Loading movie ratings...\")\n",
    "    data = ml.loadMovieLensLatestSmall()\n",
    "    print(\"\\nComputing movie popularity ranks so we can measure novelty later...\")\n",
    "    rankings = ml.getPopularityRanks()\n",
    "    return (ml, data, rankings)\n",
    "\n",
    "np.random.seed(0)\n",
    "random.seed(0)\n",
    "\n",
    "# Load up common data set for the recommender algorithms\n",
    "(ml, evaluationData, rankings) = LoadMovieLensData()\n",
    "\n",
    "# Construct an Evaluator to, you know, evaluate them\n",
    "evaluator = Evaluator(evaluationData, rankings)\n",
    "\n",
    "contentKNN = ContentKNNAlgorithm()\n",
    "evaluator.AddAlgorithm(contentKNN, \"ContentKNN\")\n",
    "\n",
    "# Just make random recommendations\n",
    "Random = NormalPredictor()\n",
    "evaluator.AddAlgorithm(Random, \"Random\")\n",
    "\n",
    "evaluator.Evaluate(False)\n",
    "\n",
    "evaluator.SampleTopNRecs(ml)\n",
    "\n",
    "\n"
   ]
  }
 ],
 "metadata": {
  "kernelspec": {
   "display_name": "Python 3",
   "language": "python",
   "name": "python3"
  },
  "language_info": {
   "codemirror_mode": {
    "name": "ipython",
    "version": 3
   },
   "file_extension": ".py",
   "mimetype": "text/x-python",
   "name": "python",
   "nbconvert_exporter": "python",
   "pygments_lexer": "ipython3",
   "version": "3.5.6"
  }
 },
 "nbformat": 4,
 "nbformat_minor": 1
}
