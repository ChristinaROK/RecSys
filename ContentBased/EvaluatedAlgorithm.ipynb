{
 "cells": [
  {
   "cell_type": "code",
   "execution_count": null,
   "metadata": {
    "collapsed": false
   },
   "outputs": [],
   "source": ["# -*- coding: utf-8 -*-\n\"\"\"\nCreated on Thu May  3 10:45:33 2018\n\n@author: Frank\n\"\"\"\nfrom RecommenderMetrics import RecommenderMetrics\nfrom EvaluationData import EvaluationData\n\nclass EvaluatedAlgorithm:\n    \n    def __init__(self, algorithm, name):\n        self.algorithm = algorithm\n        self.name = name\n        \n    def Evaluate(self, evaluationData, doTopN, n=10, verbose=True):\n        metrics = {}\n        # Compute accuracy\n        if (verbose):\n            print(\"Evaluating accuracy...\")\n        self.algorithm.fit(evaluationData.GetTrainSet())\n        predictions = self.algorithm.test(evaluationData.GetTestSet())\n        metrics[\"RMSE\"] = RecommenderMetrics.RMSE(predictions)\n        metrics[\"MAE\"] = RecommenderMetrics.MAE(predictions)\n        \n        if (doTopN):\n            # Evaluate top-10 with Leave One Out testing\n            if (verbose):\n                print(\"Evaluating top-N with leave-one-out...\")\n            self.algorithm.fit(evaluationData.GetLOOCVTrainSet())\n            leftOutPredictions = self.algorithm.test(evaluationData.GetLOOCVTestSet())        \n            # Build predictions for all ratings not in the training set\n            allPredictions = self.algorithm.test(evaluationData.GetLOOCVAntiTestSet())\n            # Compute top 10 recs for each user\n            topNPredicted = RecommenderMetrics.GetTopN(allPredictions, n)\n            if (verbose):\n                print(\"Computing hit-rate and rank metrics...\")\n            # See how often we recommended a movie the user actually rated\n            metrics[\"HR\"] = RecommenderMetrics.HitRate(topNPredicted, leftOutPredictions)   \n            # See how often we recommended a movie the user actually liked\n            metrics[\"cHR\"] = RecommenderMetrics.CumulativeHitRate(topNPredicted, leftOutPredictions)\n            # Compute ARHR\n            metrics[\"ARHR\"] = RecommenderMetrics.AverageReciprocalHitRank(topNPredicted, leftOutPredictions)\n        \n            #Evaluate properties of recommendations on full training set\n            if (verbose):\n                print(\"Computing recommendations with full data set...\")\n            self.algorithm.fit(evaluationData.GetFullTrainSet())\n            allPredictions = self.algorithm.test(evaluationData.GetFullAntiTestSet())\n            topNPredicted = RecommenderMetrics.GetTopN(allPredictions, n)\n            if (verbose):\n                print(\"Analyzing coverage, diversity, and novelty...\")\n            # Print user coverage with a minimum predicted rating of 4.0:\n            metrics[\"Coverage\"] = RecommenderMetrics.UserCoverage(  topNPredicted, \n                                                                   evaluationData.GetFullTrainSet().n_users, \n                                                                   ratingThreshold=4.0)\n            # Measure diversity of recommendations:\n            metrics[\"Diversity\"] = RecommenderMetrics.Diversity(topNPredicted, evaluationData.GetSimilarities())\n            \n            # Measure novelty (average popularity rank of recommendations):\n            metrics[\"Novelty\"] = RecommenderMetrics.Novelty(topNPredicted, \n                                                            evaluationData.GetPopularityRankings())\n        \n        if (verbose):\n            print(\"Analysis complete.\")\n    \n        return metrics\n    \n    def GetName(self):\n        return self.name\n    \n    def GetAlgorithm(self):\n        return self.algorithm\n    \n    "]
  }
 ],
 "metadata": {
  "kernelspec": {
   "display_name": "Python 3",
   "language": "python",
   "name": "python3"
  },
  "language_info": {
   "codemirror_mode": {
    "name": "ipython",
    "version": 3
   },
   "file_extension": ".py",
   "mimetype": "text/x-python",
   "name": "python",
   "nbconvert_exporter": "python",
   "pygments_lexer": "ipython3",
   "version": "3.4.2"
  }
 },
 "nbformat": 4,
 "nbformat_minor": 0
}