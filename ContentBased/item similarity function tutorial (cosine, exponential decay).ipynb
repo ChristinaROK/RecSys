{
 "cells": [
  {
   "cell_type": "code",
   "execution_count": 9,
   "metadata": {},
   "outputs": [],
   "source": [
    "import numpy as np\n",
    "import math"
   ]
  },
  {
   "cell_type": "code",
   "execution_count": 10,
   "metadata": {},
   "outputs": [],
   "source": [
    "def computeGenreSimilarity(movie1, movie2, genres): \n",
    "    \"\"\" \n",
    "        multi-dimension (vectors) cosine similarity btw two items\n",
    "        \n",
    "        parameters: \n",
    "            movie1, movie 2 : movid_id\n",
    "            genres : dictionary {movie_id: genre vector(one-hot encoding)}\n",
    "    \"\"\"\n",
    "    \n",
    "    genres1 = genres[movie1] \n",
    "    genres2 = genres[movie2]\n",
    "    sumxx, sumxy, sumyy = 0, 0, 0\n",
    "    for i in range(len(genres1)):\n",
    "        x = genres1[i]\n",
    "        y = genres2[i]\n",
    "        sumxx += x*x \n",
    "        sumyy += y*y\n",
    "        sumxy += x*y\n",
    "        \n",
    "    return sumxy / math.sqrt(sumxx * sumyy)"
   ]
  },
  {
   "cell_type": "code",
   "execution_count": 11,
   "metadata": {},
   "outputs": [
    {
     "name": "stdout",
     "output_type": "stream",
     "text": [
      "{'movie_1': array([1, 0, 1, 1, 0, 0]), 'movie_2': array([0, 1, 1, 0, 1, 0])}\n"
     ]
    }
   ],
   "source": [
    "# tutorial 1\n",
    "genres = {}\n",
    "genres['movie_1'] = np.array([1,0,1,1,0,0])\n",
    "genres['movie_2'] = np.array([0,1,1,0,1,0])\n",
    "print(genres)"
   ]
  },
  {
   "cell_type": "code",
   "execution_count": 12,
   "metadata": {},
   "outputs": [
    {
     "data": {
      "text/plain": [
       "0.3333333333333333"
      ]
     },
     "execution_count": 12,
     "metadata": {},
     "output_type": "execute_result"
    }
   ],
   "source": [
    "computeGenreSimilarity('movie_1', 'movie_2', genres)"
   ]
  },
  {
   "cell_type": "code",
   "execution_count": 13,
   "metadata": {},
   "outputs": [],
   "source": [
    "def computeYearSimilarity(movie1, movie2, years):\n",
    "    \"\"\"\n",
    "        computing similarity according to the `released year`\n",
    "        using `Exponential Decay Function`\n",
    "        \n",
    "        parameters:\n",
    "            movie1, movie2: item_id\n",
    "            years: dictionary {'item_id': released_year}\n",
    "    \"\"\"\n",
    "    diff = abs(years[movie1] - years[movie2])\n",
    "    sim = math.exp(-diff / 10.0)\n",
    "    return sim"
   ]
  },
  {
   "cell_type": "code",
   "execution_count": 16,
   "metadata": {},
   "outputs": [
    {
     "name": "stdout",
     "output_type": "stream",
     "text": [
      "{'movie_1': 1992, 'movie_2': 1996, 'movie_3': 2018}\n"
     ]
    }
   ],
   "source": [
    "# tutorial 2\n",
    "years = {}\n",
    "years['movie_1'] = 1992\n",
    "years['movie_2'] = 1996\n",
    "years['movie_3'] = 2018\n",
    "print(years)"
   ]
  },
  {
   "cell_type": "code",
   "execution_count": 17,
   "metadata": {},
   "outputs": [
    {
     "data": {
      "text/plain": [
       "0.6703200460356393"
      ]
     },
     "execution_count": 17,
     "metadata": {},
     "output_type": "execute_result"
    }
   ],
   "source": [
    "computeYearSimilarity('movie_1', 'movie_2', years)"
   ]
  },
  {
   "cell_type": "code",
   "execution_count": 18,
   "metadata": {},
   "outputs": [
    {
     "data": {
      "text/plain": [
       "0.07427357821433388"
      ]
     },
     "execution_count": 18,
     "metadata": {},
     "output_type": "execute_result"
    }
   ],
   "source": [
    "computeYearSimilarity('movie_1', 'movie_3', years)"
   ]
  }
 ],
 "metadata": {
  "kernelspec": {
   "display_name": "Python 3",
   "language": "python",
   "name": "python3"
  },
  "language_info": {
   "codemirror_mode": {
    "name": "ipython",
    "version": 3
   },
   "file_extension": ".py",
   "mimetype": "text/x-python",
   "name": "python",
   "nbconvert_exporter": "python",
   "pygments_lexer": "ipython3",
   "version": "3.5.6"
  }
 },
 "nbformat": 4,
 "nbformat_minor": 2
}
