{
 "cells": [
  {
   "cell_type": "code",
   "execution_count": 9,
   "metadata": {},
   "outputs": [],
   "source": [
    "import pandas as pd\n",
    "import numpy as np\n",
    "import ReciprocalRank\n",
    "from tqdm import tqdm_notebook "
   ]
  },
  {
   "cell_type": "code",
   "execution_count": 2,
   "metadata": {},
   "outputs": [],
   "source": [
    "train = pd.read_csv('train.csv')"
   ]
  },
  {
   "cell_type": "markdown",
   "metadata": {},
   "source": [
    "### example: user_id '008UN2RY0DMY'로 y값을 알아보자  "
   ]
  },
  {
   "cell_type": "code",
   "execution_count": 17,
   "metadata": {},
   "outputs": [
    {
     "data": {
      "text/plain": [
       "reference                                                3174122\n",
       "impressions    63711|76170|3174122|3227059|561711|60144|60932...\n",
       "Name: 14563099, dtype: object"
      ]
     },
     "execution_count": 17,
     "metadata": {},
     "output_type": "execute_result"
    }
   ],
   "source": [
    "train.loc[train.user_id == '008UN2RY0DMY'][['reference','impressions']].iloc[22]"
   ]
  },
  {
   "cell_type": "code",
   "execution_count": 14,
   "metadata": {},
   "outputs": [],
   "source": [
    "rc = train.loc[train.user_id == '008UN2RY0DMY'][['reference','impressions']].iloc[22,1]"
   ]
  },
  {
   "cell_type": "code",
   "execution_count": 16,
   "metadata": {},
   "outputs": [
    {
     "data": {
      "text/plain": [
       "25"
      ]
     },
     "execution_count": 16,
     "metadata": {},
     "output_type": "execute_result"
    }
   ],
   "source": [
    "rc.count('|') + 1"
   ]
  },
  {
   "cell_type": "markdown",
   "metadata": {},
   "source": [
    "* 이 user는 25개의 impressions(추천 list) 중 3번째에 ranking 된 item_id `3174122`를 구매했다. "
   ]
  },
  {
   "cell_type": "markdown",
   "metadata": {},
   "source": [
    "# train.csv EDA"
   ]
  },
  {
   "cell_type": "code",
   "execution_count": 28,
   "metadata": {},
   "outputs": [
    {
     "data": {
      "text/html": [
       "<div>\n",
       "<style scoped>\n",
       "    .dataframe tbody tr th:only-of-type {\n",
       "        vertical-align: middle;\n",
       "    }\n",
       "\n",
       "    .dataframe tbody tr th {\n",
       "        vertical-align: top;\n",
       "    }\n",
       "\n",
       "    .dataframe thead th {\n",
       "        text-align: right;\n",
       "    }\n",
       "</style>\n",
       "<table border=\"1\" class=\"dataframe\">\n",
       "  <thead>\n",
       "    <tr style=\"text-align: right;\">\n",
       "      <th></th>\n",
       "      <th>user_id</th>\n",
       "      <th>session_id</th>\n",
       "      <th>timestamp</th>\n",
       "      <th>step</th>\n",
       "      <th>action_type</th>\n",
       "      <th>reference</th>\n",
       "      <th>platform</th>\n",
       "      <th>city</th>\n",
       "      <th>device</th>\n",
       "      <th>current_filters</th>\n",
       "      <th>impressions</th>\n",
       "      <th>prices</th>\n",
       "    </tr>\n",
       "  </thead>\n",
       "  <tbody>\n",
       "    <tr>\n",
       "      <th>15932987</th>\n",
       "      <td>ZSJ7ZNLB6JQH</td>\n",
       "      <td>1d1948db73412</td>\n",
       "      <td>1541547574</td>\n",
       "      <td>155</td>\n",
       "      <td>interaction item image</td>\n",
       "      <td>2024423</td>\n",
       "      <td>BR</td>\n",
       "      <td>Porto Seguro, Brazil</td>\n",
       "      <td>mobile</td>\n",
       "      <td>NaN</td>\n",
       "      <td>NaN</td>\n",
       "      <td>NaN</td>\n",
       "    </tr>\n",
       "    <tr>\n",
       "      <th>15932988</th>\n",
       "      <td>ZSJ7ZNLB6JQH</td>\n",
       "      <td>1d1948db73412</td>\n",
       "      <td>1541547574</td>\n",
       "      <td>156</td>\n",
       "      <td>interaction item info</td>\n",
       "      <td>2024423</td>\n",
       "      <td>BR</td>\n",
       "      <td>Porto Seguro, Brazil</td>\n",
       "      <td>mobile</td>\n",
       "      <td>NaN</td>\n",
       "      <td>NaN</td>\n",
       "      <td>NaN</td>\n",
       "    </tr>\n",
       "    <tr>\n",
       "      <th>15932989</th>\n",
       "      <td>ZSJ7ZNLB6JQH</td>\n",
       "      <td>1d1948db73412</td>\n",
       "      <td>1541547597</td>\n",
       "      <td>157</td>\n",
       "      <td>interaction item image</td>\n",
       "      <td>2813114</td>\n",
       "      <td>BR</td>\n",
       "      <td>Porto Seguro, Brazil</td>\n",
       "      <td>mobile</td>\n",
       "      <td>NaN</td>\n",
       "      <td>NaN</td>\n",
       "      <td>NaN</td>\n",
       "    </tr>\n",
       "    <tr>\n",
       "      <th>15932990</th>\n",
       "      <td>ZSJ7ZNLB6JQH</td>\n",
       "      <td>1d1948db73412</td>\n",
       "      <td>1541547597</td>\n",
       "      <td>158</td>\n",
       "      <td>interaction item image</td>\n",
       "      <td>2277390</td>\n",
       "      <td>BR</td>\n",
       "      <td>Porto Seguro, Brazil</td>\n",
       "      <td>mobile</td>\n",
       "      <td>NaN</td>\n",
       "      <td>NaN</td>\n",
       "      <td>NaN</td>\n",
       "    </tr>\n",
       "    <tr>\n",
       "      <th>15932991</th>\n",
       "      <td>ZSJ7ZNLB6JQH</td>\n",
       "      <td>1d1948db73412</td>\n",
       "      <td>1541547744</td>\n",
       "      <td>159</td>\n",
       "      <td>clickout item</td>\n",
       "      <td>2277390</td>\n",
       "      <td>BR</td>\n",
       "      <td>Porto Seguro, Brazil</td>\n",
       "      <td>mobile</td>\n",
       "      <td>NaN</td>\n",
       "      <td>2813114|1291318|11142246|477981|2784918|227739...</td>\n",
       "      <td>108|77|185|156|168|86|112|224|161|123|188|147|...</td>\n",
       "    </tr>\n",
       "  </tbody>\n",
       "</table>\n",
       "</div>"
      ],
      "text/plain": [
       "               user_id     session_id   timestamp  step  \\\n",
       "15932987  ZSJ7ZNLB6JQH  1d1948db73412  1541547574   155   \n",
       "15932988  ZSJ7ZNLB6JQH  1d1948db73412  1541547574   156   \n",
       "15932989  ZSJ7ZNLB6JQH  1d1948db73412  1541547597   157   \n",
       "15932990  ZSJ7ZNLB6JQH  1d1948db73412  1541547597   158   \n",
       "15932991  ZSJ7ZNLB6JQH  1d1948db73412  1541547744   159   \n",
       "\n",
       "                     action_type reference platform                  city  \\\n",
       "15932987  interaction item image   2024423       BR  Porto Seguro, Brazil   \n",
       "15932988   interaction item info   2024423       BR  Porto Seguro, Brazil   \n",
       "15932989  interaction item image   2813114       BR  Porto Seguro, Brazil   \n",
       "15932990  interaction item image   2277390       BR  Porto Seguro, Brazil   \n",
       "15932991           clickout item   2277390       BR  Porto Seguro, Brazil   \n",
       "\n",
       "          device current_filters  \\\n",
       "15932987  mobile             NaN   \n",
       "15932988  mobile             NaN   \n",
       "15932989  mobile             NaN   \n",
       "15932990  mobile             NaN   \n",
       "15932991  mobile             NaN   \n",
       "\n",
       "                                                impressions  \\\n",
       "15932987                                                NaN   \n",
       "15932988                                                NaN   \n",
       "15932989                                                NaN   \n",
       "15932990                                                NaN   \n",
       "15932991  2813114|1291318|11142246|477981|2784918|227739...   \n",
       "\n",
       "                                                     prices  \n",
       "15932987                                                NaN  \n",
       "15932988                                                NaN  \n",
       "15932989                                                NaN  \n",
       "15932990                                                NaN  \n",
       "15932991  108|77|185|156|168|86|112|224|161|123|188|147|...  "
      ]
     },
     "execution_count": 28,
     "metadata": {},
     "output_type": "execute_result"
    }
   ],
   "source": [
    "train.tail()"
   ]
  },
  {
   "cell_type": "code",
   "execution_count": 5,
   "metadata": {},
   "outputs": [
    {
     "data": {
      "text/plain": [
       "(15932992, 12)"
      ]
     },
     "execution_count": 5,
     "metadata": {},
     "output_type": "execute_result"
    }
   ],
   "source": [
    "train.shape # 1600만개"
   ]
  },
  {
   "cell_type": "code",
   "execution_count": 9,
   "metadata": {},
   "outputs": [
    {
     "name": "stdout",
     "output_type": "stream",
     "text": [
      "<class 'pandas.core.frame.DataFrame'>\n",
      "RangeIndex: 15932992 entries, 0 to 15932991\n",
      "Data columns (total 12 columns):\n",
      "user_id            object\n",
      "session_id         object\n",
      "timestamp          int64\n",
      "step               int64\n",
      "action_type        object\n",
      "reference          object\n",
      "platform           object\n",
      "city               object\n",
      "device             object\n",
      "current_filters    object\n",
      "impressions        object\n",
      "prices             object\n",
      "dtypes: int64(2), object(10)\n",
      "memory usage: 1.4+ GB\n"
     ]
    }
   ],
   "source": [
    "train.info()"
   ]
  },
  {
   "cell_type": "markdown",
   "metadata": {},
   "source": [
    "`user_id`"
   ]
  },
  {
   "cell_type": "code",
   "execution_count": 6,
   "metadata": {},
   "outputs": [
    {
     "data": {
      "text/plain": [
       "730803"
      ]
     },
     "execution_count": 6,
     "metadata": {},
     "output_type": "execute_result"
    }
   ],
   "source": [
    "train.user_id.nunique() # user_id: 73만 user"
   ]
  },
  {
   "cell_type": "markdown",
   "metadata": {},
   "source": [
    "`session_id`"
   ]
  },
  {
   "cell_type": "code",
   "execution_count": 7,
   "metadata": {},
   "outputs": [
    {
     "data": {
      "text/plain": [
       "910683"
      ]
     },
     "execution_count": 7,
     "metadata": {},
     "output_type": "execute_result"
    }
   ],
   "source": [
    "train.session_id.nunique()"
   ]
  },
  {
   "cell_type": "code",
   "execution_count": 35,
   "metadata": {},
   "outputs": [],
   "source": [
    "# user와 session의 관계 파악\n",
    "# 각 user 마다 몇 번의 session이 나오는지 FE"
   ]
  },
  {
   "cell_type": "markdown",
   "metadata": {},
   "source": [
    "`timestamp`"
   ]
  },
  {
   "cell_type": "code",
   "execution_count": 29,
   "metadata": {},
   "outputs": [],
   "source": [
    "# timestamp(UNIX)를 local date, time으로 변환 \n",
    "import datetime\n",
    "def myfunc(x):\n",
    "    return datetime.datetime.fromtimestamp(x).strftime('%Y-%m-%d %H:%M:%S')\n",
    "\n",
    "mylist = list(map(myfunc,list(train.timestamp)))\n"
   ]
  },
  {
   "cell_type": "code",
   "execution_count": 32,
   "metadata": {},
   "outputs": [],
   "source": [
    "train['time'] = mylist"
   ]
  },
  {
   "cell_type": "code",
   "execution_count": 33,
   "metadata": {},
   "outputs": [
    {
     "data": {
      "text/html": [
       "<div>\n",
       "<style scoped>\n",
       "    .dataframe tbody tr th:only-of-type {\n",
       "        vertical-align: middle;\n",
       "    }\n",
       "\n",
       "    .dataframe tbody tr th {\n",
       "        vertical-align: top;\n",
       "    }\n",
       "\n",
       "    .dataframe thead th {\n",
       "        text-align: right;\n",
       "    }\n",
       "</style>\n",
       "<table border=\"1\" class=\"dataframe\">\n",
       "  <thead>\n",
       "    <tr style=\"text-align: right;\">\n",
       "      <th></th>\n",
       "      <th>user_id</th>\n",
       "      <th>session_id</th>\n",
       "      <th>timestamp</th>\n",
       "      <th>step</th>\n",
       "      <th>action_type</th>\n",
       "      <th>reference</th>\n",
       "      <th>platform</th>\n",
       "      <th>city</th>\n",
       "      <th>device</th>\n",
       "      <th>current_filters</th>\n",
       "      <th>impressions</th>\n",
       "      <th>prices</th>\n",
       "      <th>time</th>\n",
       "    </tr>\n",
       "  </thead>\n",
       "  <tbody>\n",
       "    <tr>\n",
       "      <th>0</th>\n",
       "      <td>008UN2RY0DMY</td>\n",
       "      <td>cd10940538005</td>\n",
       "      <td>1541031243</td>\n",
       "      <td>1</td>\n",
       "      <td>search for destination</td>\n",
       "      <td>Rochester, USA</td>\n",
       "      <td>US</td>\n",
       "      <td>Rochester, USA</td>\n",
       "      <td>desktop</td>\n",
       "      <td>NaN</td>\n",
       "      <td>NaN</td>\n",
       "      <td>NaN</td>\n",
       "      <td>2018-11-01 09:14:03</td>\n",
       "    </tr>\n",
       "    <tr>\n",
       "      <th>1</th>\n",
       "      <td>008UN2RY0DMY</td>\n",
       "      <td>cd10940538005</td>\n",
       "      <td>1541031463</td>\n",
       "      <td>2</td>\n",
       "      <td>change of sort order</td>\n",
       "      <td>interaction sort button</td>\n",
       "      <td>US</td>\n",
       "      <td>Rochester, USA</td>\n",
       "      <td>desktop</td>\n",
       "      <td>NaN</td>\n",
       "      <td>NaN</td>\n",
       "      <td>NaN</td>\n",
       "      <td>2018-11-01 09:17:43</td>\n",
       "    </tr>\n",
       "    <tr>\n",
       "      <th>2</th>\n",
       "      <td>008UN2RY0DMY</td>\n",
       "      <td>cd10940538005</td>\n",
       "      <td>1541031473</td>\n",
       "      <td>3</td>\n",
       "      <td>change of sort order</td>\n",
       "      <td>distance and recommended</td>\n",
       "      <td>US</td>\n",
       "      <td>Rochester, USA</td>\n",
       "      <td>desktop</td>\n",
       "      <td>NaN</td>\n",
       "      <td>NaN</td>\n",
       "      <td>NaN</td>\n",
       "      <td>2018-11-01 09:17:53</td>\n",
       "    </tr>\n",
       "    <tr>\n",
       "      <th>3</th>\n",
       "      <td>008UN2RY0DMY</td>\n",
       "      <td>cd10940538005</td>\n",
       "      <td>1541031473</td>\n",
       "      <td>4</td>\n",
       "      <td>filter selection</td>\n",
       "      <td>Focus on Distance</td>\n",
       "      <td>US</td>\n",
       "      <td>Rochester, USA</td>\n",
       "      <td>desktop</td>\n",
       "      <td>Focus on Distance</td>\n",
       "      <td>NaN</td>\n",
       "      <td>NaN</td>\n",
       "      <td>2018-11-01 09:17:53</td>\n",
       "    </tr>\n",
       "    <tr>\n",
       "      <th>4</th>\n",
       "      <td>008UN2RY0DMY</td>\n",
       "      <td>cd10940538005</td>\n",
       "      <td>1541031550</td>\n",
       "      <td>5</td>\n",
       "      <td>interaction item image</td>\n",
       "      <td>57103</td>\n",
       "      <td>US</td>\n",
       "      <td>Rochester, USA</td>\n",
       "      <td>desktop</td>\n",
       "      <td>NaN</td>\n",
       "      <td>NaN</td>\n",
       "      <td>NaN</td>\n",
       "      <td>2018-11-01 09:19:10</td>\n",
       "    </tr>\n",
       "  </tbody>\n",
       "</table>\n",
       "</div>"
      ],
      "text/plain": [
       "        user_id     session_id   timestamp  step             action_type  \\\n",
       "0  008UN2RY0DMY  cd10940538005  1541031243     1  search for destination   \n",
       "1  008UN2RY0DMY  cd10940538005  1541031463     2    change of sort order   \n",
       "2  008UN2RY0DMY  cd10940538005  1541031473     3    change of sort order   \n",
       "3  008UN2RY0DMY  cd10940538005  1541031473     4        filter selection   \n",
       "4  008UN2RY0DMY  cd10940538005  1541031550     5  interaction item image   \n",
       "\n",
       "                  reference platform            city   device  \\\n",
       "0            Rochester, USA       US  Rochester, USA  desktop   \n",
       "1   interaction sort button       US  Rochester, USA  desktop   \n",
       "2  distance and recommended       US  Rochester, USA  desktop   \n",
       "3         Focus on Distance       US  Rochester, USA  desktop   \n",
       "4                     57103       US  Rochester, USA  desktop   \n",
       "\n",
       "     current_filters impressions prices                 time  \n",
       "0                NaN         NaN    NaN  2018-11-01 09:14:03  \n",
       "1                NaN         NaN    NaN  2018-11-01 09:17:43  \n",
       "2                NaN         NaN    NaN  2018-11-01 09:17:53  \n",
       "3  Focus on Distance         NaN    NaN  2018-11-01 09:17:53  \n",
       "4                NaN         NaN    NaN  2018-11-01 09:19:10  "
      ]
     },
     "execution_count": 33,
     "metadata": {},
     "output_type": "execute_result"
    }
   ],
   "source": [
    "train.head()"
   ]
  },
  {
   "cell_type": "markdown",
   "metadata": {},
   "source": [
    "`step` = step in the sequence of actions within the session"
   ]
  },
  {
   "cell_type": "markdown",
   "metadata": {},
   "source": [
    "`action_type`"
   ]
  },
  {
   "cell_type": "code",
   "execution_count": 37,
   "metadata": {},
   "outputs": [
    {
     "data": {
      "text/plain": [
       "interaction item image    11860750\n",
       "clickout item              1586586\n",
       "filter selection            695917\n",
       "interaction item deals      411040\n",
       "search for destination      403066\n",
       "change of sort order        400584\n",
       "interaction item info       285402\n",
       "search for item             152203\n",
       "search for poi              137444\n",
       "Name: action_type, dtype: int64"
      ]
     },
     "execution_count": 37,
     "metadata": {},
     "output_type": "execute_result"
    }
   ],
   "source": [
    "train.action_type.value_counts()"
   ]
  },
  {
   "cell_type": "code",
   "execution_count": 38,
   "metadata": {},
   "outputs": [],
   "source": [
    "# 각각을 컬럼으로 만들기 FE!!! "
   ]
  },
  {
   "cell_type": "markdown",
   "metadata": {},
   "source": [
    "`reference`= reference value of the action as described for the different action types"
   ]
  },
  {
   "cell_type": "code",
   "execution_count": 39,
   "metadata": {},
   "outputs": [
    {
     "data": {
      "text/plain": [
       "action_type           reference                       \n",
       "change of sort order  interaction sort button             235027\n",
       "                      price only                           78863\n",
       "                      price and recommended                43317\n",
       "                      distance only                        12413\n",
       "                      distance and recommended             10102\n",
       "                      rating and recommended                9833\n",
       "                      rating only                           7159\n",
       "                      our recommendations                   3870\n",
       "clickout item         8796                                   822\n",
       "                      8561                                   763\n",
       "                      8621                                   726\n",
       "                      8589                                   652\n",
       "                      1455251                                648\n",
       "                      8586                                   634\n",
       "                      8618                                   627\n",
       "                      9773310                                554\n",
       "                      100227                                 539\n",
       "                      8805412                                525\n",
       "                      1811137                                520\n",
       "                      8588                                   516\n",
       "                      8564                                   504\n",
       "                      8551                                   478\n",
       "                      948643                                 444\n",
       "                      103452                                 436\n",
       "                      4638392                                435\n",
       "                      1649739                                424\n",
       "                      103600                                 419\n",
       "                      44208                                  406\n",
       "                      499361                                 395\n",
       "                      2053822                                392\n",
       "                                                           ...  \n",
       "search for poi        lacanau ocean                            1\n",
       "                      of Casablanca                            1\n",
       "                      theater ... und so fort                  1\n",
       "                      train station Štrbské Pleso              1\n",
       "                      Älvsjö                                   1\n",
       "                      Åre Kabinbana                            1\n",
       "                      Çarşamba Bus Terminal                    1\n",
       "                      Óbidos Castle                            1\n",
       "                      Österreichischer Skulpturenpark          1\n",
       "                      Östra stranden                           1\n",
       "                      Ørnes Verden                             1\n",
       "                      Újlipótváros                             1\n",
       "                      Újpest                                   1\n",
       "                      Überseemuseum                            1\n",
       "                      Českomoravská Metro Station              1\n",
       "                      Český pivní festival                     1\n",
       "                      Čukarica                                 1\n",
       "                      Đavolja varoš                            1\n",
       "                      İnonu Stadi                              1\n",
       "                      İzmir Atatürk Stadyum                    1\n",
       "                      İzmit Bus Terminal                       1\n",
       "                      Ōsu Kannon Station                       1\n",
       "                      Řeporyje                                 1\n",
       "                      Şükrü Saracoğlu Stadium                  1\n",
       "                      Żoliborz                                 1\n",
       "                      Αgios Pavlos Beach                       1\n",
       "                      Νeapoli                                  1\n",
       "                      Золотi Ворота                            1\n",
       "                      Летище Пловдив - Plovdiv Airport         1\n",
       "                      Сark Сaddesi                             1\n",
       "Name: reference, Length: 836154, dtype: int64"
      ]
     },
     "execution_count": 39,
     "metadata": {},
     "output_type": "execute_result"
    }
   ],
   "source": [
    "train.groupby('action_type')['reference'].value_counts()"
   ]
  },
  {
   "cell_type": "code",
   "execution_count": null,
   "metadata": {},
   "outputs": [],
   "source": [
    "# action column의 세부 category FE !! "
   ]
  },
  {
   "cell_type": "markdown",
   "metadata": {},
   "source": [
    "`impression`: 상품 구입할 때 디스플레이된 상품 리스트 (추천시스템 적용 전)"
   ]
  },
  {
   "cell_type": "markdown",
   "metadata": {},
   "source": [
    "# test.csv EDA"
   ]
  },
  {
   "cell_type": "code",
   "execution_count": 14,
   "metadata": {},
   "outputs": [],
   "source": [
    "test = pd.read_csv('test.csv')"
   ]
  },
  {
   "cell_type": "code",
   "execution_count": 19,
   "metadata": {},
   "outputs": [
    {
     "data": {
      "text/plain": [
       "0"
      ]
     },
     "execution_count": 19,
     "metadata": {},
     "output_type": "execute_result"
    }
   ],
   "source": [
    "sum(test.loc[test.action_type == 'clickout item']['impressions'].isna())"
   ]
  },
  {
   "cell_type": "markdown",
   "metadata": {},
   "source": [
    "* 제품 구매 시 impression 정보가 빠진 경우는 없다. "
   ]
  },
  {
   "cell_type": "code",
   "execution_count": 13,
   "metadata": {
    "scrolled": true
   },
   "outputs": [
    {
     "data": {
      "text/html": [
       "<div>\n",
       "<style scoped>\n",
       "    .dataframe tbody tr th:only-of-type {\n",
       "        vertical-align: middle;\n",
       "    }\n",
       "\n",
       "    .dataframe tbody tr th {\n",
       "        vertical-align: top;\n",
       "    }\n",
       "\n",
       "    .dataframe thead th {\n",
       "        text-align: right;\n",
       "    }\n",
       "</style>\n",
       "<table border=\"1\" class=\"dataframe\">\n",
       "  <thead>\n",
       "    <tr style=\"text-align: right;\">\n",
       "      <th></th>\n",
       "      <th>user_id</th>\n",
       "      <th>session_id</th>\n",
       "      <th>timestamp</th>\n",
       "      <th>step</th>\n",
       "      <th>action_type</th>\n",
       "      <th>reference</th>\n",
       "      <th>platform</th>\n",
       "      <th>city</th>\n",
       "      <th>device</th>\n",
       "      <th>current_filters</th>\n",
       "      <th>impressions</th>\n",
       "      <th>prices</th>\n",
       "    </tr>\n",
       "  </thead>\n",
       "  <tbody>\n",
       "    <tr>\n",
       "      <th>0</th>\n",
       "      <td>000324D9BBUC</td>\n",
       "      <td>89643988fdbfb</td>\n",
       "      <td>1541593272</td>\n",
       "      <td>1</td>\n",
       "      <td>search for destination</td>\n",
       "      <td>Budapest, Hungary</td>\n",
       "      <td>BG</td>\n",
       "      <td>Budapest, Hungary</td>\n",
       "      <td>desktop</td>\n",
       "      <td>NaN</td>\n",
       "      <td>NaN</td>\n",
       "      <td>NaN</td>\n",
       "    </tr>\n",
       "    <tr>\n",
       "      <th>1</th>\n",
       "      <td>000324D9BBUC</td>\n",
       "      <td>89643988fdbfb</td>\n",
       "      <td>1541593820</td>\n",
       "      <td>2</td>\n",
       "      <td>filter selection</td>\n",
       "      <td>Car Park</td>\n",
       "      <td>BG</td>\n",
       "      <td>Budapest, Hungary</td>\n",
       "      <td>desktop</td>\n",
       "      <td>Car Park</td>\n",
       "      <td>NaN</td>\n",
       "      <td>NaN</td>\n",
       "    </tr>\n",
       "    <tr>\n",
       "      <th>2</th>\n",
       "      <td>000324D9BBUC</td>\n",
       "      <td>89643988fdbfb</td>\n",
       "      <td>1541593882</td>\n",
       "      <td>3</td>\n",
       "      <td>interaction item image</td>\n",
       "      <td>1000915</td>\n",
       "      <td>BG</td>\n",
       "      <td>Budapest, Hungary</td>\n",
       "      <td>desktop</td>\n",
       "      <td>NaN</td>\n",
       "      <td>NaN</td>\n",
       "      <td>NaN</td>\n",
       "    </tr>\n",
       "    <tr>\n",
       "      <th>3</th>\n",
       "      <td>000324D9BBUC</td>\n",
       "      <td>89643988fdbfb</td>\n",
       "      <td>1541593882</td>\n",
       "      <td>4</td>\n",
       "      <td>interaction item image</td>\n",
       "      <td>1000915</td>\n",
       "      <td>BG</td>\n",
       "      <td>Budapest, Hungary</td>\n",
       "      <td>desktop</td>\n",
       "      <td>NaN</td>\n",
       "      <td>NaN</td>\n",
       "      <td>NaN</td>\n",
       "    </tr>\n",
       "    <tr>\n",
       "      <th>4</th>\n",
       "      <td>000324D9BBUC</td>\n",
       "      <td>89643988fdbfb</td>\n",
       "      <td>1541593902</td>\n",
       "      <td>5</td>\n",
       "      <td>interaction item image</td>\n",
       "      <td>1000915</td>\n",
       "      <td>BG</td>\n",
       "      <td>Budapest, Hungary</td>\n",
       "      <td>desktop</td>\n",
       "      <td>NaN</td>\n",
       "      <td>NaN</td>\n",
       "      <td>NaN</td>\n",
       "    </tr>\n",
       "    <tr>\n",
       "      <th>5</th>\n",
       "      <td>000324D9BBUC</td>\n",
       "      <td>89643988fdbfb</td>\n",
       "      <td>1541593902</td>\n",
       "      <td>6</td>\n",
       "      <td>interaction item image</td>\n",
       "      <td>1000915</td>\n",
       "      <td>BG</td>\n",
       "      <td>Budapest, Hungary</td>\n",
       "      <td>desktop</td>\n",
       "      <td>NaN</td>\n",
       "      <td>NaN</td>\n",
       "      <td>NaN</td>\n",
       "    </tr>\n",
       "    <tr>\n",
       "      <th>6</th>\n",
       "      <td>000324D9BBUC</td>\n",
       "      <td>89643988fdbfb</td>\n",
       "      <td>1541593931</td>\n",
       "      <td>7</td>\n",
       "      <td>interaction item image</td>\n",
       "      <td>1241375</td>\n",
       "      <td>BG</td>\n",
       "      <td>Budapest, Hungary</td>\n",
       "      <td>desktop</td>\n",
       "      <td>NaN</td>\n",
       "      <td>NaN</td>\n",
       "      <td>NaN</td>\n",
       "    </tr>\n",
       "    <tr>\n",
       "      <th>7</th>\n",
       "      <td>000324D9BBUC</td>\n",
       "      <td>89643988fdbfb</td>\n",
       "      <td>1541593941</td>\n",
       "      <td>8</td>\n",
       "      <td>interaction item image</td>\n",
       "      <td>1241375</td>\n",
       "      <td>BG</td>\n",
       "      <td>Budapest, Hungary</td>\n",
       "      <td>desktop</td>\n",
       "      <td>NaN</td>\n",
       "      <td>NaN</td>\n",
       "      <td>NaN</td>\n",
       "    </tr>\n",
       "    <tr>\n",
       "      <th>8</th>\n",
       "      <td>000324D9BBUC</td>\n",
       "      <td>89643988fdbfb</td>\n",
       "      <td>1541593941</td>\n",
       "      <td>9</td>\n",
       "      <td>interaction item image</td>\n",
       "      <td>1241375</td>\n",
       "      <td>BG</td>\n",
       "      <td>Budapest, Hungary</td>\n",
       "      <td>desktop</td>\n",
       "      <td>NaN</td>\n",
       "      <td>NaN</td>\n",
       "      <td>NaN</td>\n",
       "    </tr>\n",
       "    <tr>\n",
       "      <th>9</th>\n",
       "      <td>000324D9BBUC</td>\n",
       "      <td>89643988fdbfb</td>\n",
       "      <td>1541593942</td>\n",
       "      <td>10</td>\n",
       "      <td>clickout item</td>\n",
       "      <td>NaN</td>\n",
       "      <td>BG</td>\n",
       "      <td>Budapest, Hungary</td>\n",
       "      <td>desktop</td>\n",
       "      <td>NaN</td>\n",
       "      <td>923407|1729121|1050792|97171|353141|106315|218...</td>\n",
       "      <td>47|78|76|76|77|79|55|75|78|69|77|56|72|61|47|6...</td>\n",
       "    </tr>\n",
       "  </tbody>\n",
       "</table>\n",
       "</div>"
      ],
      "text/plain": [
       "        user_id     session_id   timestamp  step             action_type  \\\n",
       "0  000324D9BBUC  89643988fdbfb  1541593272     1  search for destination   \n",
       "1  000324D9BBUC  89643988fdbfb  1541593820     2        filter selection   \n",
       "2  000324D9BBUC  89643988fdbfb  1541593882     3  interaction item image   \n",
       "3  000324D9BBUC  89643988fdbfb  1541593882     4  interaction item image   \n",
       "4  000324D9BBUC  89643988fdbfb  1541593902     5  interaction item image   \n",
       "5  000324D9BBUC  89643988fdbfb  1541593902     6  interaction item image   \n",
       "6  000324D9BBUC  89643988fdbfb  1541593931     7  interaction item image   \n",
       "7  000324D9BBUC  89643988fdbfb  1541593941     8  interaction item image   \n",
       "8  000324D9BBUC  89643988fdbfb  1541593941     9  interaction item image   \n",
       "9  000324D9BBUC  89643988fdbfb  1541593942    10           clickout item   \n",
       "\n",
       "           reference platform               city   device current_filters  \\\n",
       "0  Budapest, Hungary       BG  Budapest, Hungary  desktop             NaN   \n",
       "1           Car Park       BG  Budapest, Hungary  desktop        Car Park   \n",
       "2            1000915       BG  Budapest, Hungary  desktop             NaN   \n",
       "3            1000915       BG  Budapest, Hungary  desktop             NaN   \n",
       "4            1000915       BG  Budapest, Hungary  desktop             NaN   \n",
       "5            1000915       BG  Budapest, Hungary  desktop             NaN   \n",
       "6            1241375       BG  Budapest, Hungary  desktop             NaN   \n",
       "7            1241375       BG  Budapest, Hungary  desktop             NaN   \n",
       "8            1241375       BG  Budapest, Hungary  desktop             NaN   \n",
       "9                NaN       BG  Budapest, Hungary  desktop             NaN   \n",
       "\n",
       "                                         impressions  \\\n",
       "0                                                NaN   \n",
       "1                                                NaN   \n",
       "2                                                NaN   \n",
       "3                                                NaN   \n",
       "4                                                NaN   \n",
       "5                                                NaN   \n",
       "6                                                NaN   \n",
       "7                                                NaN   \n",
       "8                                                NaN   \n",
       "9  923407|1729121|1050792|97171|353141|106315|218...   \n",
       "\n",
       "                                              prices  \n",
       "0                                                NaN  \n",
       "1                                                NaN  \n",
       "2                                                NaN  \n",
       "3                                                NaN  \n",
       "4                                                NaN  \n",
       "5                                                NaN  \n",
       "6                                                NaN  \n",
       "7                                                NaN  \n",
       "8                                                NaN  \n",
       "9  47|78|76|76|77|79|55|75|78|69|77|56|72|61|47|6...  "
      ]
     },
     "execution_count": 13,
     "metadata": {},
     "output_type": "execute_result"
    }
   ],
   "source": [
    "test.loc[test.user_id == '000324D9BBUC']"
   ]
  },
  {
   "cell_type": "markdown",
   "metadata": {},
   "source": [
    "* 구매한 상품 정보가 없다.\n",
    "\n",
    "'action_type == clickout item' and 'reference == NaN' \n",
    "\n",
    "* 그럼 impression을 보고 어떤 itme_id를 샀는 지 맞춰?"
   ]
  },
  {
   "cell_type": "code",
   "execution_count": 20,
   "metadata": {},
   "outputs": [],
   "source": [
    "sample = pd.read_csv('submission_popular.csv')"
   ]
  },
  {
   "cell_type": "code",
   "execution_count": 22,
   "metadata": {},
   "outputs": [
    {
     "data": {
      "text/html": [
       "<div>\n",
       "<style scoped>\n",
       "    .dataframe tbody tr th:only-of-type {\n",
       "        vertical-align: middle;\n",
       "    }\n",
       "\n",
       "    .dataframe tbody tr th {\n",
       "        vertical-align: top;\n",
       "    }\n",
       "\n",
       "    .dataframe thead th {\n",
       "        text-align: right;\n",
       "    }\n",
       "</style>\n",
       "<table border=\"1\" class=\"dataframe\">\n",
       "  <thead>\n",
       "    <tr style=\"text-align: right;\">\n",
       "      <th></th>\n",
       "      <th>user_id</th>\n",
       "      <th>session_id</th>\n",
       "      <th>timestamp</th>\n",
       "      <th>step</th>\n",
       "      <th>item_recommendations</th>\n",
       "    </tr>\n",
       "  </thead>\n",
       "  <tbody>\n",
       "    <tr>\n",
       "      <th>0</th>\n",
       "      <td>000324D9BBUC</td>\n",
       "      <td>89643988fdbfb</td>\n",
       "      <td>1541593942</td>\n",
       "      <td>10</td>\n",
       "      <td>924795 106315 1033140 119494 101758 903037 105...</td>\n",
       "    </tr>\n",
       "  </tbody>\n",
       "</table>\n",
       "</div>"
      ],
      "text/plain": [
       "        user_id     session_id   timestamp  step  \\\n",
       "0  000324D9BBUC  89643988fdbfb  1541593942    10   \n",
       "\n",
       "                                item_recommendations  \n",
       "0  924795 106315 1033140 119494 101758 903037 105...  "
      ]
     },
     "execution_count": 22,
     "metadata": {},
     "output_type": "execute_result"
    }
   ],
   "source": [
    "sample.loc[sample.user_id == '000324D9BBUC']"
   ]
  },
  {
   "cell_type": "markdown",
   "metadata": {},
   "source": [
    "* item_recommendations는 결국 clickout_item을 맞추는 거네! \n",
    "* test에서 clickout 없는 session_id 개수와 sample의 row개수가 같은가?"
   ]
  },
  {
   "cell_type": "code",
   "execution_count": 23,
   "metadata": {},
   "outputs": [
    {
     "data": {
      "text/plain": [
       "(253573, 5)"
      ]
     },
     "execution_count": 23,
     "metadata": {},
     "output_type": "execute_result"
    }
   ],
   "source": [
    "sample.shape"
   ]
  },
  {
   "cell_type": "code",
   "execution_count": 25,
   "metadata": {},
   "outputs": [
    {
     "data": {
      "text/plain": [
       "253573"
      ]
     },
     "execution_count": 25,
     "metadata": {},
     "output_type": "execute_result"
    }
   ],
   "source": [
    "sum(test.loc[test.action_type == 'clickout item']['reference'].isna())"
   ]
  },
  {
   "cell_type": "markdown",
   "metadata": {},
   "source": [
    "* yes! "
   ]
  },
  {
   "cell_type": "markdown",
   "metadata": {},
   "source": [
    "# Conclusion\n",
    "`submission`의 `item_recommendations`를 만드는 것이 대회의 최종 목표이다. test의 session_id중에서 유저가 산 item_id가 빠져있는 (nan) 데이터가 있다. (253,572개) `item_recommendations`는 이 유저들이 가장 살 만한 아이템의 추천 리스트라고 볼 수 있다. "
   ]
  },
  {
   "cell_type": "code",
   "execution_count": null,
   "metadata": {},
   "outputs": [],
   "source": []
  }
 ],
 "metadata": {
  "kernelspec": {
   "display_name": "Python 3",
   "language": "python",
   "name": "python3"
  },
  "language_info": {
   "codemirror_mode": {
    "name": "ipython",
    "version": 3
   },
   "file_extension": ".py",
   "mimetype": "text/x-python",
   "name": "python",
   "nbconvert_exporter": "python",
   "pygments_lexer": "ipython3",
   "version": "3.5.6"
  }
 },
 "nbformat": 4,
 "nbformat_minor": 2
}
