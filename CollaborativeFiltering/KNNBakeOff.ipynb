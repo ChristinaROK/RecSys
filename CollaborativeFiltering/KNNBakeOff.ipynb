{
 "cells": [
  {
   "cell_type": "code",
   "execution_count": null,
   "metadata": {
    "collapsed": false
   },
   "outputs": [],
   "source": ["# -*- coding: utf-8 -*-\n\"\"\"\nCreated on Thu May  3 11:11:13 2018\n\n@author: Frank\n\"\"\"\n\nfrom MovieLens import MovieLens\nfrom surprise import KNNBasic\nfrom surprise import NormalPredictor\nfrom Evaluator import Evaluator\n\nimport random\nimport numpy as np\n\ndef LoadMovieLensData():\n    ml = MovieLens()\n    print(\"Loading movie ratings...\")\n    data = ml.loadMovieLensLatestSmall()\n    print(\"\\nComputing movie popularity ranks so we can measure novelty later...\")\n    rankings = ml.getPopularityRanks()\n    return (ml, data, rankings)\n\nnp.random.seed(0)\nrandom.seed(0)\n\n# Load up common data set for the recommender algorithms\n(ml, evaluationData, rankings) = LoadMovieLensData()\n\n# Construct an Evaluator to, you know, evaluate them\nevaluator = Evaluator(evaluationData, rankings)\n\n# User-based KNN\nUserKNN = KNNBasic(sim_options = {'name': 'cosine', 'user_based': True})\nevaluator.AddAlgorithm(UserKNN, \"User KNN\")\n\n# Item-based KNN\nItemKNN = KNNBasic(sim_options = {'name': 'cosine', 'user_based': False})\nevaluator.AddAlgorithm(ItemKNN, \"Item KNN\")\n\n# Just make random recommendations\nRandom = NormalPredictor()\nevaluator.AddAlgorithm(Random, \"Random\")\n\n# Fight!\nevaluator.Evaluate(False)\n\nevaluator.SampleTopNRecs(ml)\n"]
  }
 ],
 "metadata": {
  "kernelspec": {
   "display_name": "Python 3",
   "language": "python",
   "name": "python3"
  },
  "language_info": {
   "codemirror_mode": {
    "name": "ipython",
    "version": 3
   },
   "file_extension": ".py",
   "mimetype": "text/x-python",
   "name": "python",
   "nbconvert_exporter": "python",
   "pygments_lexer": "ipython3",
   "version": "3.4.2"
  }
 },
 "nbformat": 4,
 "nbformat_minor": 0
}