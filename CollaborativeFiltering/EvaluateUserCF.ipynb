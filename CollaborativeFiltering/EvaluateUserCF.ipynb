{
 "cells": [
  {
   "cell_type": "code",
   "execution_count": null,
   "metadata": {
    "collapsed": false
   },
   "outputs": [],
   "source": ["# -*- coding: utf-8 -*-\n\"\"\"\nCreated on Wed May  9 10:10:04 2018\n\n@author: Frank\n\"\"\"\n\nfrom MovieLens import MovieLens\nfrom surprise import KNNBasic\nimport heapq\nfrom collections import defaultdict\nfrom operator import itemgetter\nfrom surprise.model_selection import LeaveOneOut\nfrom RecommenderMetrics import RecommenderMetrics\nfrom EvaluationData import EvaluationData\n\ndef LoadMovieLensData():\n    ml = MovieLens()\n    print(\"Loading movie ratings...\")\n    data = ml.loadMovieLensLatestSmall()\n    print(\"\\nComputing movie popularity ranks so we can measure novelty later...\")\n    rankings = ml.getPopularityRanks()\n    return (ml, data, rankings)\n\nml, data, rankings = LoadMovieLensData()\n\nevalData = EvaluationData(data, rankings)\n\n# Train on leave-One-Out train set\ntrainSet = evalData.GetLOOCVTrainSet()\nsim_options = {'name': 'cosine',\n               'user_based': True\n               }\n\nmodel = KNNBasic(sim_options=sim_options)\nmodel.fit(trainSet)\nsimsMatrix = model.compute_similarities()\n\nleftOutTestSet = evalData.GetLOOCVTestSet()\n\n# Build up dict to lists of (int(movieID), predictedrating) pairs\ntopN = defaultdict(list)\nk = 10\nfor uiid in range(trainSet.n_users):\n    # Get top N similar users to this one\n    similarityRow = simsMatrix[uiid]\n    \n    similarUsers = []\n    for innerID, score in enumerate(similarityRow):\n        if (innerID != uiid):\n            similarUsers.append( (innerID, score) )\n    \n    kNeighbors = heapq.nlargest(k, similarUsers, key=lambda t: t[1])\n    \n    # Get the stuff they rated, and add up ratings for each item, weighted by user similarity\n    candidates = defaultdict(float)\n    for similarUser in kNeighbors:\n        innerID = similarUser[0]\n        userSimilarityScore = similarUser[1]\n        theirRatings = trainSet.ur[innerID]\n        for rating in theirRatings:\n            candidates[rating[0]] += (rating[1] / 5.0) * userSimilarityScore\n        \n    # Build a dictionary of stuff the user has already seen\n    watched = {}\n    for itemID, rating in trainSet.ur[uiid]:\n        watched[itemID] = 1\n        \n    # Get top-rated items from similar users:\n    pos = 0\n    for itemID, ratingSum in sorted(candidates.items(), key=itemgetter(1), reverse=True):\n        if not itemID in watched:\n            movieID = trainSet.to_raw_iid(itemID)\n            topN[int(trainSet.to_raw_uid(uiid))].append( (int(movieID), 0.0) )\n            pos += 1\n            if (pos > 40):\n                break\n    \n# Measure\nprint(\"HR\", RecommenderMetrics.HitRate(topN, leftOutTestSet))   \n\n\n"]
  }
 ],
 "metadata": {
  "kernelspec": {
   "display_name": "Python 3",
   "language": "python",
   "name": "python3"
  },
  "language_info": {
   "codemirror_mode": {
    "name": "ipython",
    "version": 3
   },
   "file_extension": ".py",
   "mimetype": "text/x-python",
   "name": "python",
   "nbconvert_exporter": "python",
   "pygments_lexer": "ipython3",
   "version": "3.4.2"
  }
 },
 "nbformat": 4,
 "nbformat_minor": 0
}