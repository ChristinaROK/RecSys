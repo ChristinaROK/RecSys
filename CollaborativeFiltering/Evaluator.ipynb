{
 "cells": [
  {
   "cell_type": "code",
   "execution_count": null,
   "metadata": {
    "collapsed": false
   },
   "outputs": [],
   "source": ["# -*- coding: utf-8 -*-\n\"\"\"\nCreated on Thu May  3 10:22:34 2018\n\n@author: Frank\n\"\"\"\nfrom EvaluationData import EvaluationData\nfrom EvaluatedAlgorithm import EvaluatedAlgorithm\n\nclass Evaluator:\n    \n    algorithms = []\n    \n    def __init__(self, dataset, rankings):\n        ed = EvaluationData(dataset, rankings)\n        self.dataset = ed\n        \n    def AddAlgorithm(self, algorithm, name):\n        alg = EvaluatedAlgorithm(algorithm, name)\n        self.algorithms.append(alg)\n        \n    def Evaluate(self, doTopN):\n        results = {}\n        for algorithm in self.algorithms:\n            print(\"Evaluating \", algorithm.GetName(), \"...\")\n            results[algorithm.GetName()] = algorithm.Evaluate(self.dataset, doTopN)\n\n        # Print results\n        print(\"\\n\")\n        \n        if (doTopN):\n            print(\"{:<10} {:<10} {:<10} {:<10} {:<10} {:<10} {:<10} {:<10} {:<10}\".format(\n                    \"Algorithm\", \"RMSE\", \"MAE\", \"HR\", \"cHR\", \"ARHR\", \"Coverage\", \"Diversity\", \"Novelty\"))\n            for (name, metrics) in results.items():\n                print(\"{:<10} {:<10.4f} {:<10.4f} {:<10.4f} {:<10.4f} {:<10.4f} {:<10.4f} {:<10.4f} {:<10.4f}\".format(\n                        name, metrics[\"RMSE\"], metrics[\"MAE\"], metrics[\"HR\"], metrics[\"cHR\"], metrics[\"ARHR\"],\n                                      metrics[\"Coverage\"], metrics[\"Diversity\"], metrics[\"Novelty\"]))\n        else:\n            print(\"{:<10} {:<10} {:<10}\".format(\"Algorithm\", \"RMSE\", \"MAE\"))\n            for (name, metrics) in results.items():\n                print(\"{:<10} {:<10.4f} {:<10.4f}\".format(name, metrics[\"RMSE\"], metrics[\"MAE\"]))\n                \n        print(\"\\nLegend:\\n\")\n        print(\"RMSE:      Root Mean Squared Error. Lower values mean better accuracy.\")\n        print(\"MAE:       Mean Absolute Error. Lower values mean better accuracy.\")\n        if (doTopN):\n            print(\"HR:        Hit Rate; how often we are able to recommend a left-out rating. Higher is better.\")\n            print(\"cHR:       Cumulative Hit Rate; hit rate, confined to ratings above a certain threshold. Higher is better.\")\n            print(\"ARHR:      Average Reciprocal Hit Rank - Hit rate that takes the ranking into account. Higher is better.\" )\n            print(\"Coverage:  Ratio of users for whom recommendations above a certain threshold exist. Higher is better.\")\n            print(\"Diversity: 1-S, where S is the average similarity score between every possible pair of recommendations\")\n            print(\"           for a given user. Higher means more diverse.\")\n            print(\"Novelty:   Average popularity rank of recommended items. Higher means more novel.\")\n        \n    def SampleTopNRecs(self, ml, testSubject=85, k=10):\n        \n        for algo in self.algorithms:\n            print(\"\\nUsing recommender \", algo.GetName())\n            \n            print(\"\\nBuilding recommendation model...\")\n            trainSet = self.dataset.GetFullTrainSet()\n            algo.GetAlgorithm().fit(trainSet)\n            \n            print(\"Computing recommendations...\")\n            testSet = self.dataset.GetAntiTestSetForUser(testSubject)\n        \n            predictions = algo.GetAlgorithm().test(testSet)\n            \n            recommendations = []\n            \n            print (\"\\nWe recommend:\")\n            for userID, movieID, actualRating, estimatedRating, _ in predictions:\n                intMovieID = int(movieID)\n                recommendations.append((intMovieID, estimatedRating))\n            \n            recommendations.sort(key=lambda x: x[1], reverse=True)\n            \n            for ratings in recommendations[:10]:\n                print(ml.getMovieName(ratings[0]), ratings[1])\n                \n\n            \n            \n    \n    "]
  }
 ],
 "metadata": {
  "kernelspec": {
   "display_name": "Python 3",
   "language": "python",
   "name": "python3"
  },
  "language_info": {
   "codemirror_mode": {
    "name": "ipython",
    "version": 3
   },
   "file_extension": ".py",
   "mimetype": "text/x-python",
   "name": "python",
   "nbconvert_exporter": "python",
   "pygments_lexer": "ipython3",
   "version": "3.4.2"
  }
 },
 "nbformat": 4,
 "nbformat_minor": 0
}