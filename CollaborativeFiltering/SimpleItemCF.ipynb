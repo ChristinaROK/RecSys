{
 "cells": [
  {
   "cell_type": "code",
   "execution_count": null,
   "metadata": {
    "collapsed": false
   },
   "outputs": [],
   "source": ["# -*- coding: utf-8 -*-\n\"\"\"\nCreated on Wed May  9 10:10:04 2018\n\n@author: Frank\n\"\"\"\n\nfrom MovieLens import MovieLens\nfrom surprise import KNNBasic\nimport heapq\nfrom collections import defaultdict\nfrom operator import itemgetter\n        \ntestSubject = '85'\nk = 10\n\nml = MovieLens()\ndata = ml.loadMovieLensLatestSmall()\n\ntrainSet = data.build_full_trainset()\n\nsim_options = {'name': 'cosine',\n               'user_based': False\n               }\n\nmodel = KNNBasic(sim_options=sim_options)\nmodel.fit(trainSet)\nsimsMatrix = model.compute_similarities()\n\ntestUserInnerID = trainSet.to_inner_uid(testSubject)\n\n# Get the top K items we rated\ntestUserRatings = trainSet.ur[testUserInnerID]\nkNeighbors = heapq.nlargest(k, testUserRatings, key=lambda t: t[1])\n\n# Get similar items to stuff we liked (weighted by rating)\ncandidates = defaultdict(float)\nfor itemID, rating in kNeighbors:\n    similarityRow = simsMatrix[itemID]\n    for innerID, score in enumerate(similarityRow):\n        candidates[innerID] += score * (rating / 5.0)\n    \n# Build a dictionary of stuff the user has already seen\nwatched = {}\nfor itemID, rating in trainSet.ur[testUserInnerID]:\n    watched[itemID] = 1\n    \n# Get top-rated items from similar users:\npos = 0\nfor itemID, ratingSum in sorted(candidates.items(), key=itemgetter(1), reverse=True):\n    if not itemID in watched:\n        movieID = trainSet.to_raw_iid(itemID)\n        print(ml.getMovieName(int(movieID)), ratingSum)\n        pos += 1\n        if (pos > 10):\n            break\n\n    \n\n\n"]
  }
 ],
 "metadata": {
  "kernelspec": {
   "display_name": "Python 3",
   "language": "python",
   "name": "python3"
  },
  "language_info": {
   "codemirror_mode": {
    "name": "ipython",
    "version": 3
   },
   "file_extension": ".py",
   "mimetype": "text/x-python",
   "name": "python",
   "nbconvert_exporter": "python",
   "pygments_lexer": "ipython3",
   "version": "3.4.2"
  }
 },
 "nbformat": 4,
 "nbformat_minor": 0
}