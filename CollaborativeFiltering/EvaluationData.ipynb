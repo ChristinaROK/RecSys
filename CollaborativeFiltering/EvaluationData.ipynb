{
 "cells": [
  {
   "cell_type": "code",
   "execution_count": null,
   "metadata": {
    "collapsed": false
   },
   "outputs": [],
   "source": ["# -*- coding: utf-8 -*-\n\"\"\"\nCreated on Thu May  3 10:48:02 2018\n\n@author: Frank\n\"\"\"\nfrom surprise.model_selection import train_test_split\nfrom surprise.model_selection import LeaveOneOut\nfrom surprise import KNNBaseline\n\nclass EvaluationData:\n    \n    def __init__(self, data, popularityRankings):\n        \n        self.rankings = popularityRankings\n        \n        #Build a full training set for evaluating overall properties\n        self.fullTrainSet = data.build_full_trainset()\n        self.fullAntiTestSet = self.fullTrainSet.build_anti_testset()\n        \n        #Build a 75/25 train/test split for measuring accuracy\n        self.trainSet, self.testSet = train_test_split(data, test_size=.25, random_state=1)\n        \n        #Build a \"leave one out\" train/test split for evaluating top-N recommenders\n        #And build an anti-test-set for building predictions\n        LOOCV = LeaveOneOut(n_splits=1, random_state=1)\n        for train, test in LOOCV.split(data):\n            self.LOOCVTrain = train\n            self.LOOCVTest = test\n            \n        self.LOOCVAntiTestSet = self.LOOCVTrain.build_anti_testset()\n        \n        #Compute similarty matrix between items so we can measure diversity\n        sim_options = {'name': 'cosine', 'user_based': False}\n        self.simsAlgo = KNNBaseline(sim_options=sim_options)\n        self.simsAlgo.fit(self.fullTrainSet)\n            \n    def GetFullTrainSet(self):\n        return self.fullTrainSet\n    \n    def GetFullAntiTestSet(self):\n        return self.fullAntiTestSet\n    \n    def GetAntiTestSetForUser(self, testSubject):\n        trainset = self.fullTrainSet\n        fill = trainset.global_mean\n        anti_testset = []\n        u = trainset.to_inner_uid(str(testSubject))\n        user_items = set([j for (j, _) in trainset.ur[u]])\n        anti_testset += [(trainset.to_raw_uid(u), trainset.to_raw_iid(i), fill) for\n                                 i in trainset.all_items() if\n                                 i not in user_items]\n        return anti_testset\n\n    def GetTrainSet(self):\n        return self.trainSet\n    \n    def GetTestSet(self):\n        return self.testSet\n    \n    def GetLOOCVTrainSet(self):\n        return self.LOOCVTrain\n    \n    def GetLOOCVTestSet(self):\n        return self.LOOCVTest\n    \n    def GetLOOCVAntiTestSet(self):\n        return self.LOOCVAntiTestSet\n    \n    def GetSimilarities(self):\n        return self.simsAlgo\n    \n    def GetPopularityRankings(self):\n        return self.rankings"]
  }
 ],
 "metadata": {
  "kernelspec": {
   "display_name": "Python 3",
   "language": "python",
   "name": "python3"
  },
  "language_info": {
   "codemirror_mode": {
    "name": "ipython",
    "version": 3
   },
   "file_extension": ".py",
   "mimetype": "text/x-python",
   "name": "python",
   "nbconvert_exporter": "python",
   "pygments_lexer": "ipython3",
   "version": "3.4.2"
  }
 },
 "nbformat": 4,
 "nbformat_minor": 0
}